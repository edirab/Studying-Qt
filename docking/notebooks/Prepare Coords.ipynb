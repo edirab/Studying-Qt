{
 "cells": [
  {
   "cell_type": "code",
   "execution_count": 10,
   "metadata": {},
   "outputs": [
    {
     "name": "stdout",
     "output_type": "stream",
     "text": [
      "E:\\University\\11sem\\studying-qt\\docking\\notebooks\n"
     ]
    }
   ],
   "source": [
    "import os\n",
    "\n",
    "print(os.getcwd())"
   ]
  },
  {
   "cell_type": "code",
   "execution_count": 11,
   "metadata": {},
   "outputs": [
    {
     "name": "stdout",
     "output_type": "stream",
     "text": [
      "’ҐЄгй п Є®¤®ў п бва ­Ёж : 1251\n"
     ]
    }
   ],
   "source": [
    "!chcp 1251"
   ]
  },
  {
   "cell_type": "code",
   "execution_count": 12,
   "metadata": {},
   "outputs": [
    {
     "name": "stdout",
     "output_type": "stream",
     "text": [
      "\n",
      "(base) E:\\University\\11sem\\studying-qt\\docking\\notebooks>IF \"..\\\\timeseries\" == \"-a\" (dir)  ELSE (IF \"..\\\\timeseries\" == \"-al\" (dir)  ELSE (dir ..\\\\timeseries     ) ) \n",
      " Том в устройстве E имеет метку Локальный диск\n",
      " Серийный номер тома: DA2A-2BF0\n",
      "\n"
     ]
    },
    {
     "name": "stderr",
     "output_type": "stream",
     "text": [
      "Файл не найден\n"
     ]
    },
    {
     "name": "stdout",
     "output_type": "stream",
     "text": [
      " Содержимое папки E:\\University\\11sem\\studying-qt\\docking\n",
      "\n"
     ]
    }
   ],
   "source": [
    "!ls ..\\\\timeseries"
   ]
  },
  {
   "cell_type": "code",
   "execution_count": 13,
   "metadata": {
    "scrolled": true
   },
   "outputs": [
    {
     "name": "stdout",
     "output_type": "stream",
     "text": [
      "['0;15;0;180\\n',\n",
      " '0,05;15;0;180,0004853\\n',\n",
      " '0,1;14,88466219;5,50797E-07;179,9962547\\n',\n",
      " '0,15;14,77579259;2,66956E-05;179,9681636\\n',\n",
      " '0,2;14,72016294;8,87982E-05;179,8953698\\n']\n",
      "8001\n",
      "\n",
      "0;15;0;180\n",
      "\n"
     ]
    }
   ],
   "source": [
    "from pprint import pprint\n",
    "\n",
    "data = open(\"./Time-X-Z-Yaw.csv\")\n",
    "data = data.readlines()\n",
    "\n",
    "pprint(data[:5])\n",
    "print(len(data), end='\\n\\n')\n",
    "\n",
    "print(str(data[0]))"
   ]
  },
  {
   "cell_type": "code",
   "execution_count": 14,
   "metadata": {},
   "outputs": [],
   "source": [
    "\"Округляем до двух знаков по банковскому методу\"\n",
    "def round_2(x):\n",
    "    return round(float(x), 2)"
   ]
  },
  {
   "cell_type": "code",
   "execution_count": 15,
   "metadata": {},
   "outputs": [],
   "source": [
    "data2 = []\n",
    "\n",
    "\n",
    "\"\"\"\n",
    "1. Избавляемся от запятой, точки с запятой и символа переноса.\n",
    "2. Разбиваем по пробелам и округляем\n",
    "\"\"\"\n",
    "for i in  range(len(data)):\n",
    "    str_ = str(data[i])\n",
    "    str_ = str_.replace(\"\\n\", \"\")\n",
    "    str_ = str_.replace(\",\", \".\")\n",
    "    str_ = str_.replace(\";\", \" \")\n",
    "    #print(str_)\n",
    "    \n",
    "    num_list = list(map(float, str_.split()))\n",
    "    num_list = list(map(round_2, num_list))\n",
    "    #print(num_list)\n",
    "    data2.append(list(map(str, num_list)))"
   ]
  },
  {
   "cell_type": "code",
   "execution_count": 16,
   "metadata": {},
   "outputs": [
    {
     "name": "stdout",
     "output_type": "stream",
     "text": [
      "Type of elem: <class 'str'>\n",
      "[['0.0', '15.0', '0.0', '180.0'],\n",
      " ['0.05', '15.0', '0.0', '180.0'],\n",
      " ['0.1', '14.88', '0.0', '180.0'],\n",
      " ['0.15', '14.78', '0.0', '179.97'],\n",
      " ['0.2', '14.72', '0.0', '179.9'],\n",
      " ['0.25', '14.62', '0.0', '179.76'],\n",
      " ['0.3', '14.49', '0.0', '179.55'],\n",
      " ['0.35', '14.45', '0.0', '179.26'],\n",
      " ['0.4', '14.4', '0.0', '178.86'],\n",
      " ['0.45', '14.32', '0.0', '178.38'],\n",
      " ['0.5', '14.25', '0.01', '177.79'],\n",
      " ['0.55', '14.21', '0.01', '177.09'],\n",
      " ['0.6', '14.17', '0.01', '176.3'],\n",
      " ['0.65', '14.15', '0.01', '175.4'],\n",
      " ['0.7', '14.13', '0.01', '174.41'],\n",
      " ['0.75', '14.12', '0.02', '173.32']]\n",
      "8001\n",
      "\n",
      "[['0.0', '15.0', '0.0', '180.0'],\n",
      " ['0.4', '14.4', '0.0', '178.86'],\n",
      " ['0.8', '14.11', '0.02', '172.15'],\n",
      " ['1.2', '14.19', '-0.01', '160.4'],\n",
      " ['1.6', '14.36', '-0.09', '146.26'],\n",
      " ['2.0', '14.48', '-0.19', '131.29'],\n",
      " ['2.4', '14.56', '-0.32', '116.04'],\n",
      " ['2.8', '14.6', '-0.45', '100.71'],\n",
      " ['3.2', '14.61', '-0.58', '85.35'],\n",
      " ['3.6', '14.58', '-0.73', '69.99'],\n",
      " ['4.0', '14.51', '-0.85', '54.72'],\n",
      " ['4.4', '14.42', '-0.95', '40.08'],\n",
      " ['4.8', '14.31', '-1.02', '26.52'],\n",
      " ['5.2', '14.18', '-1.07', '14.14'],\n",
      " ['5.6', '14.05', '-1.09', '2.89'],\n",
      " ['6.0', '13.92', '-1.08', '352.71']]\n",
      "1001\n",
      "\n"
     ]
    }
   ],
   "source": [
    "print(\"Type of elem:\", type(data2[0][0]))\n",
    "pprint(data2[:16])\n",
    "print(len(data2), end=\"\\n\\n\")\n",
    "\n",
    "data3 = data2[::8]\n",
    "pprint(data3[:16])\n",
    "print(len(data3), end=\"\\n\\n\")"
   ]
  },
  {
   "cell_type": "code",
   "execution_count": 17,
   "metadata": {},
   "outputs": [
    {
     "name": "stdout",
     "output_type": "stream",
     "text": [
      "('0.0 15.0 0.0 180.0\\n'\n",
      " '0.05 15.0 0.0 180.0\\n'\n",
      " '0.1 14.88 0.0 180.0\\n'\n",
      " '0.15 14.78 0.0 179.97\\n'\n",
      " '0.2 14.72 0.0 179.9\\n'\n",
      " '0.25 14.62 0.0 179.76\\n'\n",
      " '0.3 14.49 0.0 179.55\\n'\n",
      " '0.35 14.45 0.0 179.26\\n'\n",
      " '0.4 14.4 0.0 178.86\\n'\n",
      " '0.45 14.32 0.0 178.38\\n'\n",
      " '0.5 14.25 0.01 177.79\\n'\n",
      " '0.55 14.21 0.01 177.09\\n'\n",
      " '0.6 14.17 0.01 176.3\\n'\n",
      " '0.65 14.15 0.01 175.4\\n'\n",
      " '0.7 14.13 0.01 174.41\\n'\n",
      " '0.75 14.12 0.02 173.32\\n'\n",
      " '0.8 14.11 0.02 172.15\\n'\n",
      " '0.85 14.11 0.02 170.9\\n'\n",
      " '0.9 14.11 0.02 169.57\\n'\n",
      " '0.95 14.12 0.02 168.18\\n'\n",
      " '1.0 14.13 0.01 166.72\\n'\n",
      " '1.05 14.14 0.01 165.21\\n'\n",
      " '1.1 14.16 0.01 163.65\\n'\n",
      " '1.15 14.17 -0.0 162.04\\n'\n",
      " '1.2 14.19 -0.01 160.4\\n'\n",
      " '1.25 14.22 -0.02 158.72\\n'\n",
      " '1.3 14.24 -0.03 157.0\\n'\n",
      " '1.35 14.26 -0.03 155.27\\n'\n",
      " '1.4 14.29 -0.05 153.5\\n'\n",
      " '1.45 14.31 -0.06 151.72\\n'\n",
      " '1.5 14.33 -0.07 149.92\\n'\n",
      " '1.55 14.35 -0.08 148.1\\n'\n",
      " '1.6 14.36 -0.09 146.26\\n'\n",
      " '1.65 14.38 -0.1 144.42\\n'\n",
      " '1.7 14.39 -0.11 142.57\\n'\n",
      " '1.75 14.41 -0.13 140.7\\n'\n",
      " '1.8 14.42 -0.14 138.83\\n'\n",
      " '1.85 14.44 -0.15 136.95\\n'\n",
      " '1.9 14.45 -0.17 135.07\\n'\n",
      " '1.95 14.47 -0.18 133.18\\n'\n",
      " '2.0 14.48 -0.19 131.29\\n'\n",
      " '2.05 14.49 -0.21 129.39\\n'\n",
      " '2.1 14.5 -0.22 127.49\\n'\n",
      " '2.15 14.51 -0.24 125.58\\n'\n",
      " '2.2 14.52 -0.25 1')\n"
     ]
    }
   ],
   "source": [
    "output = \"\"\n",
    "for elem in data2:\n",
    "    output += \" \".join(elem)\n",
    "    output += '\\n'\n",
    "\n",
    "f = open(\"coords.dat\", 'w')\n",
    "f.write(output)\n",
    "\n",
    "    \n",
    "#output = str(data2)\n",
    "pprint(output[:1000])"
   ]
  },
  {
   "cell_type": "code",
   "execution_count": 18,
   "metadata": {},
   "outputs": [
    {
     "name": "stdout",
     "output_type": "stream",
     "text": [
      "Help on built-in function floor in module math:\n",
      "\n",
      "floor(x, /)\n",
      "    Return the floor of x as an Integral.\n",
      "    \n",
      "    This is the largest integer <= x.\n",
      "\n",
      "Help on built-in function round in module builtins:\n",
      "\n",
      "round(number, ndigits=None)\n",
      "    Round a number to a given precision in decimal digits.\n",
      "    \n",
      "    The return value is an integer if ndigits is omitted or None.  Otherwise\n",
      "    the return value has the same type as the number.  ndigits may be negative.\n",
      "\n",
      "2\n",
      "2\n",
      "3\n"
     ]
    }
   ],
   "source": [
    "import math\n",
    "\n",
    "help(math.floor)\n",
    "help(round)\n",
    "\n",
    "print(round(2.4))\n",
    "print(round(2.5))\n",
    "print(round(2.6))"
   ]
  }
 ],
 "metadata": {
  "kernelspec": {
   "display_name": "Python [conda env:root]",
   "language": "python",
   "name": "conda-root-py"
  },
  "language_info": {
   "codemirror_mode": {
    "name": "ipython",
    "version": 3
   },
   "file_extension": ".py",
   "mimetype": "text/x-python",
   "name": "python",
   "nbconvert_exporter": "python",
   "pygments_lexer": "ipython3",
   "version": "3.8.5"
  }
 },
 "nbformat": 4,
 "nbformat_minor": 4
}
