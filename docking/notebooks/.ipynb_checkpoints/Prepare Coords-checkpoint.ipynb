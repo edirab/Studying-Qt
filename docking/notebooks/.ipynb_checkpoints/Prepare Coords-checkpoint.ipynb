{
 "cells": [
  {
   "cell_type": "code",
   "execution_count": 5,
   "metadata": {},
   "outputs": [
    {
     "name": "stdout",
     "output_type": "stream",
     "text": [
      "E:\\University\\11sem\\studying-qt\\docking\\notebooks\n"
     ]
    }
   ],
   "source": [
    "import os\n",
    "\n",
    "print(os.getcwd())"
   ]
  },
  {
   "cell_type": "code",
   "execution_count": 6,
   "metadata": {},
   "outputs": [
    {
     "name": "stdout",
     "output_type": "stream",
     "text": [
      "’ҐЄгй п Є®¤®ў п бва ­Ёж : 1251\n"
     ]
    }
   ],
   "source": [
    "!chcp 1251"
   ]
  },
  {
   "cell_type": "code",
   "execution_count": 7,
   "metadata": {},
   "outputs": [
    {
     "name": "stderr",
     "output_type": "stream",
     "text": [
      "Файл не найден\n"
     ]
    },
    {
     "name": "stdout",
     "output_type": "stream",
     "text": [
      "\n",
      "(base) E:\\University\\11sem\\studying-qt\\docking\\notebooks>IF \"..\\\\timeseries\" == \"-a\" (dir)  ELSE (IF \"..\\\\timeseries\" == \"-al\" (dir)  ELSE (dir ..\\\\timeseries     ) ) \n",
      " Том в устройстве E имеет метку Локальный диск\n",
      " Серийный номер тома: DA2A-2BF0\n",
      "\n",
      " Содержимое папки E:\\University\\11sem\\studying-qt\\docking\n",
      "\n"
     ]
    }
   ],
   "source": [
    "!ls ..\\\\timeseries"
   ]
  },
  {
   "cell_type": "code",
   "execution_count": 8,
   "metadata": {
    "scrolled": true
   },
   "outputs": [
    {
     "ename": "FileNotFoundError",
     "evalue": "[Errno 2] No such file or directory: '../timeseries/Time-X-Z-Yaw.csv'",
     "output_type": "error",
     "traceback": [
      "\u001b[1;31m---------------------------------------------------------------------------\u001b[0m",
      "\u001b[1;31mFileNotFoundError\u001b[0m                         Traceback (most recent call last)",
      "\u001b[1;32m<ipython-input-8-40e2d4af63b5>\u001b[0m in \u001b[0;36m<module>\u001b[1;34m\u001b[0m\n\u001b[0;32m      1\u001b[0m \u001b[1;32mfrom\u001b[0m \u001b[0mpprint\u001b[0m \u001b[1;32mimport\u001b[0m \u001b[0mpprint\u001b[0m\u001b[1;33m\u001b[0m\u001b[1;33m\u001b[0m\u001b[0m\n\u001b[0;32m      2\u001b[0m \u001b[1;33m\u001b[0m\u001b[0m\n\u001b[1;32m----> 3\u001b[1;33m \u001b[0mdata\u001b[0m \u001b[1;33m=\u001b[0m \u001b[0mopen\u001b[0m\u001b[1;33m(\u001b[0m\u001b[1;34m\"../timeseries/Time-X-Z-Yaw.csv\"\u001b[0m\u001b[1;33m)\u001b[0m\u001b[1;33m\u001b[0m\u001b[1;33m\u001b[0m\u001b[0m\n\u001b[0m\u001b[0;32m      4\u001b[0m \u001b[0mdata\u001b[0m \u001b[1;33m=\u001b[0m \u001b[0mdata\u001b[0m\u001b[1;33m.\u001b[0m\u001b[0mreadlines\u001b[0m\u001b[1;33m(\u001b[0m\u001b[1;33m)\u001b[0m\u001b[1;33m\u001b[0m\u001b[1;33m\u001b[0m\u001b[0m\n\u001b[0;32m      5\u001b[0m \u001b[1;33m\u001b[0m\u001b[0m\n",
      "\u001b[1;31mFileNotFoundError\u001b[0m: [Errno 2] No such file or directory: '../timeseries/Time-X-Z-Yaw.csv'"
     ]
    }
   ],
   "source": [
    "from pprint import pprint\n",
    "\n",
    "data = open(\"./Time-X-Z-Yaw.csv\")\n",
    "data = data.readlines()\n",
    "\n",
    "pprint(data[:5])\n",
    "print(len(data), end='\\n\\n')\n",
    "\n",
    "print(str(data[0]))"
   ]
  },
  {
   "cell_type": "code",
   "execution_count": null,
   "metadata": {},
   "outputs": [],
   "source": [
    "\"Округляем до двух знаков по банковскому методу\"\n",
    "def round_2(x):\n",
    "    return round(float(x), 2)"
   ]
  },
  {
   "cell_type": "code",
   "execution_count": null,
   "metadata": {},
   "outputs": [],
   "source": [
    "data2 = []\n",
    "\n",
    "\n",
    "\"\"\"\n",
    "1. Избавляемся от запятой, точки с запятой и символа переноса.\n",
    "2. Разбиваем по пробелам и округляем\n",
    "\"\"\"\n",
    "for i in  range(len(data)):\n",
    "    str_ = str(data[i])\n",
    "    str_ = str_.replace(\"\\n\", \"\")\n",
    "    str_ = str_.replace(\",\", \".\")\n",
    "    str_ = str_.replace(\";\", \" \")\n",
    "    #print(str_)\n",
    "    \n",
    "    num_list = list(map(float, str_.split()))\n",
    "    num_list = list(map(round_2, num_list))\n",
    "    #print(num_list)\n",
    "    data2.append(list(map(str, num_list)))"
   ]
  },
  {
   "cell_type": "code",
   "execution_count": null,
   "metadata": {},
   "outputs": [],
   "source": [
    "print(\"Type of elem:\", type(data2[0][0]))\n",
    "pprint(data2[:16])\n",
    "print(len(data2), end=\"\\n\\n\")\n",
    "\n",
    "data3 = data2[::8]\n",
    "pprint(data3[:16])\n",
    "print(len(data3), end=\"\\n\\n\")"
   ]
  },
  {
   "cell_type": "code",
   "execution_count": null,
   "metadata": {},
   "outputs": [],
   "source": [
    "output = \"\"\n",
    "for elem in data2:\n",
    "    output += \" \".join(elem)\n",
    "    output += '\\n'\n",
    "\n",
    "f = open(\"coords.dat\", 'w')\n",
    "f.write(output)\n",
    "\n",
    "    \n",
    "#output = str(data2)\n",
    "pprint(output[:1000])"
   ]
  },
  {
   "cell_type": "code",
   "execution_count": null,
   "metadata": {},
   "outputs": [],
   "source": [
    "import math\n",
    "\n",
    "help(math.floor)\n",
    "help(round)\n",
    "\n",
    "print(round(2.4))\n",
    "print(round(2.5))\n",
    "print(round(2.6))"
   ]
  }
 ],
 "metadata": {
  "kernelspec": {
   "display_name": "Python [conda env:root]",
   "language": "python",
   "name": "conda-root-py"
  },
  "language_info": {
   "codemirror_mode": {
    "name": "ipython",
    "version": 3
   },
   "file_extension": ".py",
   "mimetype": "text/x-python",
   "name": "python",
   "nbconvert_exporter": "python",
   "pygments_lexer": "ipython3",
   "version": "3.8.5"
  }
 },
 "nbformat": 4,
 "nbformat_minor": 4
}
